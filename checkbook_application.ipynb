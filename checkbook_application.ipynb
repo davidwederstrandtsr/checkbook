{
 "cells": [
  {
   "cell_type": "code",
   "execution_count": null,
   "metadata": {},
   "outputs": [],
   "source": [
    "# Command Line Checkbook Application\n",
    "# You will be creating a command line checkbook application that allows users to track their finances with a command line interface.\n",
    "\n",
    "# When run, the application should welcome the user, and prompt them for an action to take:\n",
    "\n",
    "# view current balance\n",
    "# add a debit (withdrawal)\n",
    "# add a credit (deposit)\n",
    "# exit\n",
    "# The application should persist between times that it is run, that is, if you run the application, \n",
    "# add some credits, exit the application and run it again, you should still see the balance that you \n",
    "#previously created. In order to do this, your application will need to store it's data in a text file. \n",
    "# Consider creating a file where each line in the file represents a single transaction."
   ]
  },
  {
   "cell_type": "code",
   "execution_count": 19,
   "metadata": {},
   "outputs": [],
   "source": [
    "filename = \"checkbook_application_data.txt\"\n",
    "with open(filename, \"w\") as f:\n",
    "    f.write('100.00')"
   ]
  },
  {
   "cell_type": "code",
   "execution_count": 22,
   "metadata": {},
   "outputs": [],
   "source": [
    "def get_balance():\n",
    "    balance = ''\n",
    "    with open(filename, \"r\") as f:\n",
    "        balance = f.readlines()\n",
    "    return float(balance[0])\n"
   ]
  },
  {
   "cell_type": "code",
   "execution_count": 23,
   "metadata": {},
   "outputs": [
    {
     "name": "stdout",
     "output_type": "stream",
     "text": [
      "100.0\n"
     ]
    }
   ],
   "source": [
    "print(get_balance())"
   ]
  },
  {
   "cell_type": "code",
   "execution_count": null,
   "metadata": {},
   "outputs": [],
   "source": []
  }
 ],
 "metadata": {
  "kernelspec": {
   "display_name": "Python 3",
   "language": "python",
   "name": "python3"
  },
  "language_info": {
   "codemirror_mode": {
    "name": "ipython",
    "version": 3
   },
   "file_extension": ".py",
   "mimetype": "text/x-python",
   "name": "python",
   "nbconvert_exporter": "python",
   "pygments_lexer": "ipython3",
   "version": "3.7.4"
  }
 },
 "nbformat": 4,
 "nbformat_minor": 2
}
